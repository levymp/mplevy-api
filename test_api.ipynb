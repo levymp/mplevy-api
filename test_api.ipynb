{
 "metadata": {
  "language_info": {
   "codemirror_mode": {
    "name": "ipython",
    "version": 3
   },
   "file_extension": ".py",
   "mimetype": "text/x-python",
   "name": "python",
   "nbconvert_exporter": "python",
   "pygments_lexer": "ipython3",
   "version": "3.7.7-final"
  },
  "orig_nbformat": 2,
  "kernelspec": {
   "name": "Python 3.7.7 64-bit ('python3': conda)",
   "display_name": "Python 3.7.7 64-bit ('python3': conda)",
   "metadata": {
    "interpreter": {
     "hash": "252245aaf84a69e37bcbb1369492a6bb9f6a5435afca22e926d29f7945bc0097"
    }
   }
  }
 },
 "nbformat": 4,
 "nbformat_minor": 2,
 "cells": [
  {
   "cell_type": "code",
   "execution_count": 14,
   "metadata": {},
   "outputs": [],
   "source": [
    "import requests\n",
    "import os\n",
    "import uuid\n",
    "import datetime as dt\n",
    "import signal\n",
    "import subprocess"
   ]
  },
  {
   "cell_type": "code",
   "execution_count": 2,
   "metadata": {},
   "outputs": [],
   "source": [
    "file = open('/Users/michaellevy/Desktop/message.txt','rb')"
   ]
  },
  {
   "cell_type": "code",
   "execution_count": 3,
   "metadata": {},
   "outputs": [],
   "source": [
    "payload = {'logfile': file}"
   ]
  },
  {
   "cell_type": "code",
   "execution_count": 54,
   "metadata": {},
   "outputs": [],
   "source": [
    "url = 'http://0.0.0.0:8503/MBOT/v1/api/log'\n",
    "url = 'http://127.0.0.1:8503/MBOT/v1/api/log'\n",
    "url = 'http://0.0.0.0:5000/MBOT/v1/api/log'\n"
   ]
  },
  {
   "cell_type": "code",
   "execution_count": 55,
   "metadata": {},
   "outputs": [],
   "source": [
    "r = requests.post(url, files=payload)"
   ]
  },
  {
   "cell_type": "code",
   "execution_count": 56,
   "metadata": {},
   "outputs": [
    {
     "output_type": "execute_result",
     "data": {
      "text/plain": "{&#39;FILE NAME&#39;: &#39;34649e9e-0457-11eb-9202-acde48001122%10-01-2020-22-30-15.txt&#39;,\n &#39;success&#39;: True}"
     },
     "metadata": {},
     "execution_count": 56
    }
   ],
   "source": [
    "r.json()"
   ]
  },
  {
   "cell_type": "code",
   "execution_count": 13,
   "metadata": {},
   "outputs": [
    {
     "output_type": "execute_result",
     "data": {
      "text/plain": "&#39;/Users/michaellevy/Documents/Michigan/Fall 2020/mplevy-api/static/logs&#39;"
     },
     "metadata": {},
     "execution_count": 13
    }
   ],
   "source": [
    "os.path.abspath('static/logs')"
   ]
  },
  {
   "cell_type": "code",
   "execution_count": 31,
   "metadata": {},
   "outputs": [],
   "source": [
    "directory = os.path.dirname(os.getcwd())"
   ]
  },
  {
   "cell_type": "code",
   "execution_count": null,
   "metadata": {},
   "outputs": [],
   "source": [
    "r = subprocess.run(['lcm-logger','hello.log'], capture_output=True)\n",
    "r.kill()"
   ]
  },
  {
   "cell_type": "code",
   "execution_count": null,
   "metadata": {},
   "outputs": [],
   "source": [
    "r.kill()"
   ]
  },
  {
   "cell_type": "code",
   "execution_count": 52,
   "metadata": {},
   "outputs": [],
   "source": [
    "# The os.setsid() is passed in the argument preexec_fn so\n",
    "# it's run after the fork() and before  exec() to run the shell.\n",
    "cmd = ['lcm-logger', 'hello.log']\n",
    "pro = subprocess.Popen(cmd, stdout=subprocess.PIPE, \n",
    "                       shell=True, preexec_fn=os.setsid) \n",
    "\n"
   ]
  },
  {
   "cell_type": "code",
   "execution_count": 53,
   "metadata": {},
   "outputs": [],
   "source": [
    "os.killpg(os.getpgid(pro.pid), signal.SIGTERM)"
   ]
  },
  {
   "cell_type": "code",
   "execution_count": null,
   "metadata": {},
   "outputs": [],
   "source": []
  }
 ]
}