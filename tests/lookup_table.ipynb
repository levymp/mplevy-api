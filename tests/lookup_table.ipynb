{
 "metadata": {
  "language_info": {
   "codemirror_mode": {
    "name": "ipython",
    "version": 3
   },
   "file_extension": ".py",
   "mimetype": "text/x-python",
   "name": "python",
   "nbconvert_exporter": "python",
   "pygments_lexer": "ipython3",
   "version": "3.7.7-final"
  },
  "orig_nbformat": 2,
  "kernelspec": {
   "name": "Python 3.7.7 64-bit ('python3': conda)",
   "display_name": "Python 3.7.7 64-bit ('python3': conda)",
   "metadata": {
    "interpreter": {
     "hash": "252245aaf84a69e37bcbb1369492a6bb9f6a5435afca22e926d29f7945bc0097"
    }
   }
  }
 },
 "nbformat": 4,
 "nbformat_minor": 2,
 "cells": [
  {
   "cell_type": "code",
   "execution_count": 1,
   "metadata": {},
   "outputs": [],
   "source": [
    "import pandas as pd\n",
    "from datetime import datetime\n",
    "from pytz import timezone\n",
    "import json"
   ]
  },
  {
   "cell_type": "code",
   "execution_count": 2,
   "metadata": {},
   "outputs": [],
   "source": [
    "columns = ['BOT NAME', 'PICKLE NAME', 'PICKLE PATH', 'LOG NAME', 'LOG PATH', 'DESCRIPTION']"
   ]
  },
  {
   "cell_type": "code",
   "execution_count": 23,
   "metadata": {},
   "outputs": [],
   "source": [
    "df = pd.DataFrame(columns=columns)"
   ]
  },
  {
   "cell_type": "code",
   "execution_count": 24,
   "metadata": {},
   "outputs": [
    {
     "output_type": "execute_result",
     "data": {
      "text/plain": [
       "0"
      ]
     },
     "metadata": {},
     "execution_count": 24
    }
   ],
   "source": [
    "len(df)"
   ]
  },
  {
   "cell_type": "code",
   "execution_count": 25,
   "metadata": {},
   "outputs": [
    {
     "output_type": "execute_result",
     "data": {
      "text/plain": [
       "Empty DataFrame\n",
       "Columns: [BOT NAME, PICKLE NAME, PICKLE PATH, LOG NAME, LOG PATH, DESCRIPTION]\n",
       "Index: []"
      ],
      "text/html": "<div>\n<style scoped>\n    .dataframe tbody tr th:only-of-type {\n        vertical-align: middle;\n    }\n\n    .dataframe tbody tr th {\n        vertical-align: top;\n    }\n\n    .dataframe thead th {\n        text-align: right;\n    }\n</style>\n<table border=\"1\" class=\"dataframe\">\n  <thead>\n    <tr style=\"text-align: right;\">\n      <th></th>\n      <th>BOT NAME</th>\n      <th>PICKLE NAME</th>\n      <th>PICKLE PATH</th>\n      <th>LOG NAME</th>\n      <th>LOG PATH</th>\n      <th>DESCRIPTION</th>\n    </tr>\n  </thead>\n  <tbody>\n  </tbody>\n</table>\n</div>"
     },
     "metadata": {},
     "execution_count": 25
    }
   ],
   "source": [
    "df"
   ]
  },
  {
   "cell_type": "code",
   "execution_count": 26,
   "metadata": {},
   "outputs": [],
   "source": [
    "\n",
    "df.to_pickle('mbot_table.pkl')"
   ]
  },
  {
   "cell_type": "code",
   "execution_count": 27,
   "metadata": {},
   "outputs": [],
   "source": [
    "df = pd.read_pickle('mbot_table.pkl')"
   ]
  },
  {
   "cell_type": "code",
   "execution_count": 28,
   "metadata": {},
   "outputs": [
    {
     "output_type": "execute_result",
     "data": {
      "text/plain": [
       "Empty DataFrame\n",
       "Columns: [BOT NAME, PICKLE NAME, PICKLE PATH, LOG NAME, LOG PATH, DESCRIPTION]\n",
       "Index: []"
      ],
      "text/html": "<div>\n<style scoped>\n    .dataframe tbody tr th:only-of-type {\n        vertical-align: middle;\n    }\n\n    .dataframe tbody tr th {\n        vertical-align: top;\n    }\n\n    .dataframe thead th {\n        text-align: right;\n    }\n</style>\n<table border=\"1\" class=\"dataframe\">\n  <thead>\n    <tr style=\"text-align: right;\">\n      <th></th>\n      <th>BOT NAME</th>\n      <th>PICKLE NAME</th>\n      <th>PICKLE PATH</th>\n      <th>LOG NAME</th>\n      <th>LOG PATH</th>\n      <th>DESCRIPTION</th>\n    </tr>\n  </thead>\n  <tbody>\n  </tbody>\n</table>\n</div>"
     },
     "metadata": {},
     "execution_count": 28
    }
   ],
   "source": [
    "df"
   ]
  },
  {
   "cell_type": "code",
   "execution_count": 4,
   "metadata": {},
   "outputs": [],
   "source": [
    "row = [\n",
    "    \"CLASS\",\n",
    "    \"2020_10_09_23:27:18.pkl\",\n",
    "    \"/home/michaellevy/data/prod/mbot/pickle/2020_10_09/2020_10_09_23:27:18.pkl\",\n",
    "    \"2020_10_09_23:27:18.log\",\n",
    "    \"/home/michaellevy/data/prod/mbot/log/2020_10_09/2020_10_09_23:27:18.log\",\n",
    "    \"SWAGGER TEST\"\n",
    "  ]"
   ]
  },
  {
   "cell_type": "code",
   "execution_count": 6,
   "metadata": {},
   "outputs": [],
   "source": [
    "result = {}\n",
    "for key, value in zip(columns, row):\n",
    "    result[key] = value\n",
    "    "
   ]
  },
  {
   "cell_type": "code",
   "execution_count": 7,
   "metadata": {},
   "outputs": [
    {
     "output_type": "execute_result",
     "data": {
      "text/plain": [
       "{'BOT NAME': 'CLASS',\n",
       " 'PICKLE NAME': '2020_10_09_23:27:18.pkl',\n",
       " 'PICKLE PATH': '/home/michaellevy/data/prod/mbot/pickle/2020_10_09/2020_10_09_23:27:18.pkl',\n",
       " 'LOG NAME': '2020_10_09_23:27:18.log',\n",
       " 'LOG PATH': '/home/michaellevy/data/prod/mbot/log/2020_10_09/2020_10_09_23:27:18.log',\n",
       " 'DESCRIPTION': 'SWAGGER TEST'}"
      ]
     },
     "metadata": {},
     "execution_count": 7
    }
   ],
   "source": [
    "result"
   ]
  },
  {
   "cell_type": "code",
   "execution_count": 10,
   "metadata": {},
   "outputs": [
    {
     "output_type": "execute_result",
     "data": {
      "text/plain": [
       "{'BOT NAME': 'CLASS',\n",
       " 'PICKLE NAME': '2020_10_09_23:27:18.pkl',\n",
       " 'PICKLE PATH': '/home/michaellevy/data/prod/mbot/pickle/2020_10_09/2020_10_09_23:27:18.pkl',\n",
       " 'LOG NAME': '2020_10_09_23:27:18.log',\n",
       " 'LOG PATH': '/home/michaellevy/data/prod/mbot/log/2020_10_09/2020_10_09_23:27:18.log',\n",
       " 'DESCRIPTION': 'SWAGGER TEST'}"
      ]
     },
     "metadata": {},
     "execution_count": 10
    }
   ],
   "source": [
    "values = dict(zip(columns, row))\n",
    "values"
   ]
  },
  {
   "cell_type": "code",
   "execution_count": null,
   "metadata": {},
   "outputs": [],
   "source": []
  }
 ]
}